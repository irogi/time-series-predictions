{
 "cells": [
  {
   "cell_type": "code",
   "execution_count": 1,
   "metadata": {},
   "outputs": [],
   "source": [
    "import pandas as pd\n",
    "import matplotlib.pyplot as plt\n",
    "import numpy as np\n",
    "import pandas.plotting._converter as pandacnv\n",
    "pandacnv.register()"
   ]
  },
  {
   "cell_type": "markdown",
   "metadata": {},
   "source": [
    "From `data/Dodgers.names`\n",
    "\n",
    ">6. Dodgers.data file format:\n",
    "> (column)\n",
    ">  1.  Date: MM/DD/YY\n",
    ">  2.  Time: (H)H:MM (military time)\n",
    ">  3.  Count: Number of cars measured for the previous five minutes\n",
    ">  Rows: Each five minute time slice is represented by one row\n",
    ">\n",
    ">7. Dodgers.events format:\n",
    "> (column)\n",
    ">  1.  Date: MM/DD/YY\n",
    ">  2.  Begin event time: HH:MM:SS (military)\n",
    ">  3.  End event time: HH:MM:SS (military)\n",
    ">  4.  Game attendance\n",
    ">  5.  Away team\n",
    ">  6.  W/L score\n",
    ">\n",
    ">8. Missing Attribute Values: 2903 (represented by -1)"
   ]
  },
  {
   "cell_type": "code",
   "execution_count": 2,
   "metadata": {},
   "outputs": [
    {
     "name": "stdout",
     "output_type": "stream",
     "text": [
      "./data/CalIt2.names\n",
      "./data/Dodgers.events\n",
      "./data/CalIt2.events\n",
      "./data/Dodgers.data\n",
      "./data/CalIt2.data\n",
      "./data/Dodgers.names\n"
     ]
    }
   ],
   "source": [
    "from os import walk\n",
    "\n",
    "for d, _, files in walk('./data'):\n",
    "    for f in files:\n",
    "        print(d+'/'+f)"
   ]
  },
  {
   "cell_type": "code",
   "execution_count": 3,
   "metadata": {},
   "outputs": [],
   "source": [
    "df = pd.read_csv('data/Dodgers.data',header=None,names=['Date', 'Count'],index_col=0)\n",
    "df.index = pd.to_datetime(df.index)"
   ]
  },
  {
   "cell_type": "markdown",
   "metadata": {},
   "source": [
    "We can see we are going to have some problem with the '-1' data immediately, and this is going to cause problems with the predictions."
   ]
  },
  {
   "cell_type": "code",
   "execution_count": 4,
   "metadata": {},
   "outputs": [],
   "source": [
    "def print_missed_entries(gdf):\n",
    "    total_elements = len(gdf)\n",
    "    num_missed = gdf.where(gdf['Count'] == -1).count()['Count']\n",
    "    perc_missed = (num_missed / total_elements) * 100\n",
    "\n",
    "    print('{} missed entries of {} total entries: {:0.2f}% missed'.format(num_missed, total_elements, perc_missed)) "
   ]
  },
  {
   "cell_type": "code",
   "execution_count": 5,
   "metadata": {},
   "outputs": [
    {
     "name": "stdout",
     "output_type": "stream",
     "text": [
      "2903 missed entries of 50400 total entries: 5.76% missed\n"
     ]
    }
   ],
   "source": [
    "print_missed_entries(df)"
   ]
  },
  {
   "cell_type": "code",
   "execution_count": 6,
   "metadata": {},
   "outputs": [],
   "source": [
    "# We will take the -1 at the beginning and the end to begin.\n",
    "first_real_entry = df[df.Count > 0].index[0]\n",
    "last_real_entry = df[df.Count > 0].index[-1]\n",
    "df = df[first_real_entry:last_real_entry]"
   ]
  },
  {
   "cell_type": "code",
   "execution_count": 7,
   "metadata": {},
   "outputs": [
    {
     "name": "stdout",
     "output_type": "stream",
     "text": [
      "2238 missed entries of 49735 total entries: 4.50% missed\n"
     ]
    }
   ],
   "source": [
    "print_missed_entries(df)"
   ]
  },
  {
   "cell_type": "markdown",
   "metadata": {},
   "source": [
    "This is a good initial drop, but we still have to deal with the embedded data points that have missing values. What we are going to do to alleviate this issue is retrieve the average car count at that particular minute over the day, and fill in those values accordingly. This should be reasonable because We are keeping a fine level of granularity and trying to keep busier minutes of the day to have more traffic."
   ]
  },
  {
   "cell_type": "code",
   "execution_count": 8,
   "metadata": {},
   "outputs": [
    {
     "name": "stderr",
     "output_type": "stream",
     "text": [
      "/usr/local/lib/python3.7/site-packages/ipykernel_launcher.py:7: FutureWarning: \n",
      "Passing list-likes to .loc or [] with any missing label will raise\n",
      "KeyError in the future, you can use .reindex() as an alternative.\n",
      "\n",
      "See the documentation here:\n",
      "https://pandas.pydata.org/pandas-docs/stable/indexing.html#deprecate-loc-reindex-listlike\n",
      "  import sys\n"
     ]
    }
   ],
   "source": [
    "min_time = df.index.min()\n",
    "max_time = df.index.max()\n",
    "num_five_min_ints = 12 * 24 # each day can be broken up into 12x24 = 288 5-minute-intervals\n",
    "\n",
    "avg_score = {}\n",
    "for i in range(num_five_min_ints):\n",
    "    mean = df.loc[np.arange(min_time, max_time, dtype='datetime64[D]') + np.timedelta64(5*i,'m')] \\\n",
    "                .where(df['Count']>0).mean()['Count']\n",
    "    avg_score[i] = mean"
   ]
  },
  {
   "cell_type": "code",
   "execution_count": 9,
   "metadata": {},
   "outputs": [
    {
     "data": {
      "text/plain": [
       "Count    991167\n",
       "dtype: int64"
      ]
     },
     "execution_count": 9,
     "metadata": {},
     "output_type": "execute_result"
    }
   ],
   "source": [
    "df.sum()"
   ]
  },
  {
   "cell_type": "code",
   "execution_count": 10,
   "metadata": {},
   "outputs": [],
   "source": [
    "for index, val in df.iterrows():\n",
    "    if val[0] == -1:\n",
    "        dt = index.to_pydatetime() \n",
    "        replace_val = int(dt.hour * 12 + dt.minute / 5)\n",
    "        df.at[index,'Count'] = avg_score[replace_val]"
   ]
  },
  {
   "cell_type": "code",
   "execution_count": 11,
   "metadata": {},
   "outputs": [
    {
     "data": {
      "text/plain": [
       "Count    1035116\n",
       "dtype: int64"
      ]
     },
     "execution_count": 11,
     "metadata": {},
     "output_type": "execute_result"
    }
   ],
   "source": [
    "df.sum()"
   ]
  },
  {
   "cell_type": "code",
   "execution_count": 12,
   "metadata": {},
   "outputs": [
    {
     "data": {
      "image/png": "[encoded data removed]",
      "text/plain": [
       "<Figure size 432x288 with 1 Axes>"
      ]
     },
     "metadata": {
      "needs_background": "light"
     },
     "output_type": "display_data"
    }
   ],
   "source": [
    "from pandas.plotting import lag_plot\n",
    "lag_plot(df)\n",
    "plt.show()"
   ]
  },
  {
   "cell_type": "markdown",
   "metadata": {},
   "source": [
    "The lag plot shows that there clearly is some sort of autocorrelation between the last five minutes and the following five. This makes sense, as traffic will not change that much over the course of 5 minutes."
   ]
  },
  {
   "cell_type": "code",
   "execution_count": 13,
   "metadata": {},
   "outputs": [],
   "source": [
    "df = df['2005-04-12':'2005-09-30'] # get rid of partial days"
   ]
  },
  {
   "cell_type": "code",
   "execution_count": 14,
   "metadata": {},
   "outputs": [],
   "source": [
    "df = df.groupby(df.index.date).sum()"
   ]
  },
  {
   "cell_type": "code",
   "execution_count": 15,
   "metadata": {},
   "outputs": [
    {
     "data": {
      "image/png": "[encoded data removed]",
      "text/plain": [
       "<Figure size 1080x288 with 2 Axes>"
      ]
     },
     "metadata": {
      "needs_background": "light"
     },
     "output_type": "display_data"
    }
   ],
   "source": [
    "import statsmodels.api as sm\n",
    "\n",
    "fig, axes = plt.subplots(1, 2, figsize=(15,4))\n",
    "\n",
    "num_lags = 50\n",
    "fig = sm.graphics.tsa.plot_acf(df['Count'], lags=num_lags, ax=axes[0])\n",
    "fig = sm.graphics.tsa.plot_pacf(df['Count'], lags=num_lags, ax=axes[1])"
   ]
  },
  {
   "cell_type": "markdown",
   "metadata": {},
   "source": [
    "By looking at the autocorrelation plot, we immediately see there is a seasonal component to this data, which repeats approximately every week. This makes sense, because people typically follow some sort of weekly schedule. Because of this seasonality, we are going to start out modelling by creating a SARIMA model (Seasonal Autoregressive Integrated Moving Average)."
   ]
  },
  {
   "cell_type": "code",
   "execution_count": 16,
   "metadata": {},
   "outputs": [
    {
     "name": "stderr",
     "output_type": "stream",
     "text": [
      "/usr/local/lib/python3.7/site-packages/statsmodels/tsa/base/tsa_model.py:165: ValueWarning: No frequency information was provided, so inferred frequency D will be used.\n",
      "  % freq, ValueWarning)\n"
     ]
    },
    {
     "name": "stdout",
     "output_type": "stream",
     "text": [
      "                                 Statespace Model Results                                \n",
      "=========================================================================================\n",
      "Dep. Variable:                             Count   No. Observations:                  142\n",
      "Model:             SARIMAX(3, 0, 1)x(1, 0, 3, 7)   Log Likelihood               -1068.167\n",
      "Date:                           Wed, 16 Oct 2019   AIC                           2154.334\n",
      "Time:                                   16:13:31   BIC                           2180.937\n",
      "Sample:                               04-12-2005   HQIC                          2165.144\n",
      "                                    - 08-31-2005                                         \n",
      "Covariance Type:                             opg                                         \n",
      "==============================================================================\n",
      "                 coef    std err          z      P>|z|      [0.025      0.975]\n",
      "------------------------------------------------------------------------------\n",
      "ar.L1          1.5462      0.072     21.579      0.000       1.406       1.687\n",
      "ar.L2         -0.3745      0.150     -2.498      0.013      -0.668      -0.081\n",
      "ar.L3         -0.1717      0.097     -1.778      0.075      -0.361       0.018\n",
      "ma.L1         -0.9982      0.044    -22.529      0.000      -1.085      -0.911\n",
      "ar.S.L7        0.9997      0.002    549.112      0.000       0.996       1.003\n",
      "ma.S.L7       -1.1211      0.120     -9.320      0.000      -1.357      -0.885\n",
      "ma.S.L14       0.2191      0.164      1.336      0.182      -0.102       0.540\n",
      "ma.S.L21      -0.0575      0.124     -0.462      0.644      -0.301       0.186\n",
      "sigma2      1.633e+05    8.5e-07   1.92e+11      0.000    1.63e+05    1.63e+05\n",
      "===================================================================================\n",
      "Ljung-Box (Q):                       26.58   Jarque-Bera (JB):                44.97\n",
      "Prob(Q):                              0.95   Prob(JB):                         0.00\n",
      "Heteroskedasticity (H):               2.19   Skew:                            -0.59\n",
      "Prob(H) (two-sided):                  0.01   Kurtosis:                         5.49\n",
      "===================================================================================\n",
      "\n",
      "Warnings:\n",
      "[1] Covariance matrix calculated using the outer product of gradients (complex-step).\n",
      "[2] Covariance matrix is singular or near-singular, with condition number 1.29e+27. Standard errors may be unstable.\n"
     ]
    },
    {
     "name": "stderr",
     "output_type": "stream",
     "text": [
      "/usr/local/lib/python3.7/site-packages/statsmodels/base/model.py:512: ConvergenceWarning: Maximum Likelihood optimization failed to converge. Check mle_retvals\n",
      "  \"Check mle_retvals\", ConvergenceWarning)\n"
     ]
    }
   ],
   "source": [
    "forecast_size = 30\n",
    "train, test = df['Count'][:-forecast_size], df['Count'][-forecast_size:]\n",
    "\n",
    "# Fit the model\n",
    "mod = sm.tsa.statespace.SARIMAX(train, order=(3,0,1), seasonal_order=(1,0,3,7))\n",
    "res = mod.fit(disp=False)\n",
    "\n",
    "print(res.summary())"
   ]
  },
  {
   "cell_type": "code",
   "execution_count": 17,
   "metadata": {},
   "outputs": [],
   "source": [
    "# In-sample one-step-ahead predictions\n",
    "prediction_range = (test.index[0], test.index[-1])\n",
    "predict = res.get_prediction()\n",
    "predict = res.predict(*prediction_range)"
   ]
  },
  {
   "cell_type": "code",
   "execution_count": 18,
   "metadata": {},
   "outputs": [
    {
     "data": {
      "image/png": "[encoded data removed]",
      "text/plain": [
       "<Figure size 648x288 with 1 Axes>"
      ]
     },
     "metadata": {
      "needs_background": "light"
     },
     "output_type": "display_data"
    }
   ],
   "source": [
    "# Graph\n",
    "fig, ax = plt.subplots(figsize=(9,4))\n",
    "npre = 4\n",
    "ax.set(title='Estimed freeway usage', xlabel='Time', ylabel='Count')\n",
    "\n",
    "# Plot data points\n",
    "test.plot(ax=ax, style='o', label='Observed')\n",
    "\n",
    "# Plot predictions\n",
    "predict.plot(ax=ax, style='r--', label='One-step-ahead forecast')\n",
    "\n",
    "legend = ax.legend(loc='lower right')"
   ]
  },
  {
   "cell_type": "code",
   "execution_count": 19,
   "metadata": {},
   "outputs": [
    {
     "name": "stdout",
     "output_type": "stream",
     "text": [
      "Test Mean Absolute Error: 455.428\n"
     ]
    }
   ],
   "source": [
    "from sklearn.metrics import mean_absolute_error\n",
    "\n",
    "error = mean_absolute_error(test, predict)\n",
    "print('Test Mean Absolute Error: {:0.3f}'.format(error))"
   ]
  },
  {
   "cell_type": "markdown",
   "metadata": {},
   "source": [
    "Voila! We have fit a SARIMA model to the data. Next step, we move away from the logically sound model to a more biological manner, by using artificial Neural Networks."
   ]
  },
  {
   "cell_type": "markdown",
   "metadata": {},
   "source": [
    "## LSTM\n",
    "The next type of prediction we are going to do is to use Long-short tem predictions."
   ]
  },
  {
   "cell_type": "code",
   "execution_count": null,
   "metadata": {},
   "outputs": [],
   "source": []
  }
 ],
 "metadata": {
  "kernelspec": {
   "display_name": "Python 3",
   "language": "python",
   "name": "python3"
  },
  "language_info": {
   "codemirror_mode": {
    "name": "ipython",
    "version": 3
   },
   "file_extension": ".py",
   "mimetype": "text/x-python",
   "name": "python",
   "nbconvert_exporter": "python",
   "pygments_lexer": "ipython3",
   "version": "3.7.3"
  }
 },
 "nbformat": 4,
 "nbformat_minor": 2
}
